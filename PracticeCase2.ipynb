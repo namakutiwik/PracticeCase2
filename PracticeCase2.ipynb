{
 "cells": [
  {
   "cell_type": "code",
   "execution_count": 1,
   "metadata": {},
   "outputs": [
    {
     "name": "stdout",
     "output_type": "stream",
     "text": [
      "your name? tiwik\n",
      "live in? bogor\n",
      "date & month of birth? 22 feb\n",
      "My name is tiwik, I live in bogor, I was born on 22 feb\n"
     ]
    }
   ],
   "source": [
    "name=input('your name? ')\n",
    "address=input('live in? ')\n",
    "dob=input('date & month of birth? ')\n",
    "print('My name is '+ name + ',' + ' I live in ' + address + ',' + ' I was born on ' + dob)"
   ]
  },
  {
   "cell_type": "code",
   "execution_count": null,
   "metadata": {},
   "outputs": [],
   "source": []
  }
 ],
 "metadata": {
  "kernelspec": {
   "display_name": "Python 3",
   "language": "python",
   "name": "python3"
  },
  "language_info": {
   "codemirror_mode": {
    "name": "ipython",
    "version": 3
   },
   "file_extension": ".py",
   "mimetype": "text/x-python",
   "name": "python",
   "nbconvert_exporter": "python",
   "pygments_lexer": "ipython3",
   "version": "3.7.6"
  }
 },
 "nbformat": 4,
 "nbformat_minor": 4
}
